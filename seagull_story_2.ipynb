{
 "cells": [
  {
   "cell_type": "code",
   "metadata": {
    "id": "6Gb-UDVPiJD_",
    "ExecuteTime": {
     "end_time": "2025-01-01T02:20:18.421454Z",
     "start_time": "2025-01-01T02:19:57.299930Z"
    }
   },
   "source": [
    "import os\n",
    "from random import shuffle\n",
    "\n",
    "import evaluate\n",
    "import torch\n",
    "from datasets import Dataset\n",
    "from transformers import AutoModelForSequenceClassification, AutoTokenizer, \\\n",
    "    TrainingArguments, Trainer"
   ],
   "outputs": [
    {
     "name": "stdout",
     "output_type": "stream",
     "text": [
      "WARNING:tensorflow:From C:\\Users\\MrPio\\AppData\\Local\\Programs\\Python\\Python310\\lib\\site-packages\\tf_keras\\src\\losses.py:2976: The name tf.losses.sparse_softmax_cross_entropy is deprecated. Please use tf.compat.v1.losses.sparse_softmax_cross_entropy instead.\n",
      "\n"
     ]
    }
   ],
   "execution_count": 1
  },
  {
   "cell_type": "code",
   "metadata": {
    "colab": {
     "base_uri": "https://localhost:8080/"
    },
    "id": "BImUvHL9iJEE",
    "outputId": "be4e1af8-be2e-401a-c39d-72d9b86906c6",
    "ExecuteTime": {
     "end_time": "2025-01-01T02:20:18.560240Z",
     "start_time": "2025-01-01T02:20:18.474750Z"
    }
   },
   "source": [
    "CLASSES = {\n",
    "    'yes': 0,\n",
    "    'irrelevant': 1,\n",
    "    'no': 2,\n",
    "}\n",
    "STORY_FILE = 'dataset/story.txt'\n",
    "DATASET_PATH = 'dataset/'\n",
    "MODEL_NAME = \"cross-encoder/nli-deberta-v3-base\"\n",
    "BATCH_SIZE = 8\n",
    "EPOCHS = 6\n",
    "LEARNING_RATE = 2e-5\n",
    "MAX_LENGTH = 512\n",
    "DEVICE = torch.device(\n",
    "    \"cuda\") if torch.cuda.is_available() else torch.device(\"cpu\")\n",
    "DEVICE"
   ],
   "outputs": [
    {
     "data": {
      "text/plain": [
       "device(type='cuda')"
      ]
     },
     "execution_count": 2,
     "metadata": {},
     "output_type": "execute_result"
    }
   ],
   "execution_count": 2
  },
  {
   "cell_type": "markdown",
   "metadata": {
    "id": "YmMXb7njiJEF"
   },
   "source": [
    "Here we define the tokenizer and the model using the handy `transformer` library from *HuggingFace*."
   ]
  },
  {
   "cell_type": "code",
   "metadata": {
    "colab": {
     "base_uri": "https://localhost:8080/"
    },
    "id": "QXcFjrZkiJEG",
    "outputId": "4c3a5ff5-57d8-4a81-c7af-39324259db84",
    "ExecuteTime": {
     "end_time": "2025-01-01T02:20:21.350655Z",
     "start_time": "2025-01-01T02:20:18.754774Z"
    }
   },
   "source": [
    "story = open(STORY_FILE).read().replace(\"\\n\\n\", \"\\n\").replace(\"\\n\", \" \").strip()\n",
    "tokenizer = AutoTokenizer.from_pretrained(MODEL_NAME, do_lower_case=True)\n",
    "model = AutoModelForSequenceClassification.from_pretrained(MODEL_NAME, num_labels=3)\n",
    "model = model.to(DEVICE)\n",
    "pass"
   ],
   "outputs": [
    {
     "name": "stderr",
     "output_type": "stream",
     "text": [
      "C:\\Users\\MrPio\\AppData\\Local\\Programs\\Python\\Python310\\lib\\site-packages\\transformers\\convert_slow_tokenizer.py:561: UserWarning: The sentencepiece tokenizer that you are converting to a fast tokenizer uses the byte fallback option which is not implemented in the fast tokenizers. In practice this means that the fast version of the tokenizer can produce unknown tokens whereas the sentencepiece version would have converted these unknown tokens into a sequence of byte tokens matching the original piece of text.\n",
      "  warnings.warn(\n"
     ]
    }
   ],
   "execution_count": 3
  },
  {
   "cell_type": "markdown",
   "metadata": {
    "id": "75F-VmBRiJEH"
   },
   "source": [
    "Next, we load the data set and split it into training and test sets."
   ]
  },
  {
   "cell_type": "code",
   "metadata": {
    "colab": {
     "base_uri": "https://localhost:8080/",
     "height": 122,
     "referenced_widgets": [
      "d4eff6637f934e6e857ea81f1b2ccb06",
      "4ed48493bc7240c1b5939c7eeaefc483",
      "ff675ee657e74328b8311b0bd0001790",
      "3208741436df4f07a8652362a451cdc5",
      "72f1364c8b4747c9a424f9e5070f233c",
      "5a93afd633054cf5b4ae6b1d9aa75ba1",
      "bc4a9f166c674e15a05d2093c4378e7c",
      "5ff480d6e3464f339ede102fc5bcb078",
      "0a39ec610ffc4a95a03596e144a0f905",
      "2fd0d94669c34ac2b2825fbf166202ec",
      "83b84f2fa4b440bea43222657938b3c2"
     ]
    },
    "id": "nuLS-N4liJEI",
    "outputId": "692b0ed4-ba6d-43eb-fc1b-b7a701ba190a",
    "ExecuteTime": {
     "end_time": "2025-01-01T02:22:11.066346Z",
     "start_time": "2025-01-01T02:22:08.607704Z"
    }
   },
   "source": [
    "dataset: list[dict] = []\n",
    "for file in CLASSES.keys():\n",
    "    with open(os.path.join(DATASET_PATH, f'{file}.txt')) as f:\n",
    "        lines = f.readlines()\n",
    "        print(f'Read {len(lines)} \"{file}\" questions')\n",
    "        dataset.extend(map(lambda e: {'question': e.replace(\n",
    "            '\\n', '').strip(), 'answer': CLASSES[file]}, lines))\n",
    "\n",
    "shuffle(dataset)\n",
    "\n",
    "\n",
    "def preprocess(sample):\n",
    "    inputs = tokenizer(\n",
    "        story,\n",
    "        sample[\"question\"],\n",
    "        truncation=True,\n",
    "        padding=\"max_length\",\n",
    "        max_length=512\n",
    "    )\n",
    "    inputs[\"label\"] = sample[\"answer\"]\n",
    "    return inputs\n",
    "\n",
    "\n",
    "hf_dataset = Dataset.from_list(dataset)\n",
    "tokenized_dataset = hf_dataset.map(preprocess, remove_columns=[\"question\"])\n",
    "\n",
    "split = tokenized_dataset.train_test_split(test_size=0.1)\n",
    "train_dataset = split[\"train\"]\n",
    "eval_dataset = split[\"test\"]"
   ],
   "outputs": [
    {
     "name": "stdout",
     "output_type": "stream",
     "text": [
      "Read 650 \"yes\" questions\n",
      "Read 650 \"irrelevant\" questions\n",
      "Read 650 \"no\" questions\n"
     ]
    },
    {
     "data": {
      "text/plain": [
       "Map:   0%|          | 0/1950 [00:00<?, ? examples/s]"
      ],
      "application/vnd.jupyter.widget-view+json": {
       "version_major": 2,
       "version_minor": 0,
       "model_id": "721b8c5fd06843578570058a52a4f547"
      }
     },
     "metadata": {},
     "output_type": "display_data"
    }
   ],
   "execution_count": 7
  },
  {
   "metadata": {
    "id": "qPGdraniiJEI"
   },
   "cell_type": "markdown",
   "source": [
    "For Ġ, look at https://discuss.huggingface.co/t/bpe-tokenizers-and-spaces-before-words/475"
   ]
  },
  {
   "metadata": {
    "colab": {
     "base_uri": "https://localhost:8080/"
    },
    "id": "5rBUMe3uiJEJ",
    "outputId": "9637bdb7-7aef-4b3b-cfac-2f1f0dd9011d",
    "ExecuteTime": {
     "end_time": "2025-01-01T02:22:22.163195Z",
     "start_time": "2025-01-01T02:22:20.534555Z"
    }
   },
   "cell_type": "code",
   "source": [
    "training_args = TrainingArguments(\n",
    "    output_dir=\"./results\",\n",
    "    report_to='none',\n",
    "    eval_strategy=\"epoch\",\n",
    "    learning_rate=LEARNING_RATE,\n",
    "    per_device_train_batch_size=BATCH_SIZE,\n",
    "    per_device_eval_batch_size=BATCH_SIZE,\n",
    "    num_train_epochs=EPOCHS,\n",
    "    weight_decay=0.01,\n",
    "    logging_dir='./logs',\n",
    "    logging_steps=10,\n",
    "    save_strategy=\"epoch\",\n",
    "    save_total_limit=1,\n",
    "    load_best_model_at_end=True,\n",
    "    metric_for_best_model=\"accuracy\",\n",
    "    eval_accumulation_steps=10,\n",
    "    disable_tqdm=False\n",
    ")\n",
    "\n",
    "metric = evaluate.load(\"accuracy\")\n",
    "\n",
    "def compute_metrics(eval_pred):\n",
    "    logits, labels = eval_pred\n",
    "    predictions = torch.argmax(torch.tensor(logits), dim=-1)\n",
    "    return metric.compute(predictions=predictions, references=labels)\n",
    "\n",
    "trainer = Trainer(\n",
    "    model=model,\n",
    "    args=training_args,\n",
    "    train_dataset=train_dataset,\n",
    "    eval_dataset=eval_dataset,\n",
    "    tokenizer=tokenizer,\n",
    "    compute_metrics=compute_metrics\n",
    ")"
   ],
   "outputs": [
    {
     "name": "stderr",
     "output_type": "stream",
     "text": [
      "C:\\Users\\MrPio\\AppData\\Local\\Temp\\ipykernel_28200\\243616217.py:27: FutureWarning: `tokenizer` is deprecated and will be removed in version 5.0.0 for `Trainer.__init__`. Use `processing_class` instead.\n",
      "  trainer = Trainer(\n"
     ]
    }
   ],
   "execution_count": 8
  },
  {
   "cell_type": "code",
   "metadata": {
    "colab": {
     "base_uri": "https://localhost:8080/",
     "height": 95
    },
    "id": "n_2awqrSiJEJ",
    "outputId": "ac9f0dc5-b9b3-4996-e16d-f4630d80c187",
    "jupyter": {
     "is_executing": true
    },
    "ExecuteTime": {
     "start_time": "2025-01-01T02:22:29.903838Z"
    }
   },
   "source": [
    "trainer.train()"
   ],
   "outputs": [
    {
     "data": {
      "text/plain": [
       "<IPython.core.display.HTML object>"
      ],
      "text/html": [
       "\n",
       "    <div>\n",
       "      \n",
       "      <progress value='3' max='1320' style='width:300px; height:20px; vertical-align: middle;'></progress>\n",
       "      [   3/1320 00:13 < 5:00:21, 0.07 it/s, Epoch 0.01/6]\n",
       "    </div>\n",
       "    <table border=\"1\" class=\"dataframe\">\n",
       "  <thead>\n",
       " <tr style=\"text-align: left;\">\n",
       "      <th>Epoch</th>\n",
       "      <th>Training Loss</th>\n",
       "      <th>Validation Loss</th>\n",
       "    </tr>\n",
       "  </thead>\n",
       "  <tbody>\n",
       "  </tbody>\n",
       "</table><p>"
      ]
     },
     "metadata": {},
     "output_type": "display_data"
    }
   ],
   "execution_count": null
  },
  {
   "cell_type": "code",
   "metadata": {
    "id": "FE4gUjFziJEK",
    "ExecuteTime": {
     "end_time": "2025-01-01T01:57:22.055719Z",
     "start_time": "2025-01-01T01:57:19.692002Z"
    }
   },
   "source": [
    "model.save_pretrained(\"deberta_seagull_train_0.1_test_1.5\")\n",
    "tokenizer.save_pretrained(\"deberta_seagull_train_0.1_test_1.5\")"
   ],
   "outputs": [
    {
     "data": {
      "text/plain": [
       "('deberta_seagull_train_0.1_test_1.5\\\\tokenizer_config.json',\n",
       " 'deberta_seagull_train_0.1_test_1.5\\\\special_tokens_map.json',\n",
       " 'deberta_seagull_train_0.1_test_1.5\\\\spm.model',\n",
       " 'deberta_seagull_train_0.1_test_1.5\\\\added_tokens.json',\n",
       " 'deberta_seagull_train_0.1_test_1.5\\\\tokenizer.json')"
      ]
     },
     "execution_count": 21,
     "metadata": {},
     "output_type": "execute_result"
    }
   ],
   "execution_count": 21
  },
  {
   "metadata": {
    "id": "T1o0dWmriJEK",
    "ExecuteTime": {
     "end_time": "2025-01-01T02:00:11.369747Z",
     "start_time": "2025-01-01T02:00:10.640660Z"
    }
   },
   "cell_type": "code",
   "source": [
    "# results = trainer.evaluate()\n",
    "# print(results)\n",
    "\n",
    "# For prediction\n",
    "sample_questions = [\"Albert is a salesman\"]\n",
    "inputs = tokenizer([story] * len(sample_questions),sample_questions, truncation=True, padding=True, return_tensors=\"pt\").to(DEVICE)\n",
    "outputs = model(**inputs)\n",
    "predictions = torch.argmax(outputs.logits, dim=-1)\n",
    "print(predictions)"
   ],
   "outputs": [
    {
     "name": "stdout",
     "output_type": "stream",
     "text": [
      "tensor([1], device='cuda:0')\n"
     ]
    }
   ],
   "execution_count": 29
  },
  {
   "cell_type": "code",
   "source": [],
   "metadata": {
    "id": "v7WsBbdzt7Jz",
    "ExecuteTime": {
     "end_time": "2024-12-31T21:32:50.557952Z",
     "start_time": "2024-12-31T21:32:50.542788Z"
    }
   },
   "outputs": [],
   "execution_count": null
  }
 ],
 "metadata": {
  "kernelspec": {
   "display_name": "Python 3 (ipykernel)",
   "name": "python3",
   "language": "python"
  },
  "language_info": {
   "codemirror_mode": {
    "name": "ipython",
    "version": 3
   },
   "file_extension": ".py",
   "mimetype": "text/x-python",
   "name": "python",
   "nbconvert_exporter": "python",
   "pygments_lexer": "ipython3",
   "version": "3.12.3"
  },
  "colab": {
   "provenance": [],
   "gpuType": "T4"
  },
  "accelerator": "GPU",
  "widgets": {
   "application/vnd.jupyter.widget-state+json": {
    "d4eff6637f934e6e857ea81f1b2ccb06": {
     "model_module": "@jupyter-widgets/controls",
     "model_name": "HBoxModel",
     "model_module_version": "1.5.0",
     "state": {
      "_dom_classes": [],
      "_model_module": "@jupyter-widgets/controls",
      "_model_module_version": "1.5.0",
      "_model_name": "HBoxModel",
      "_view_count": null,
      "_view_module": "@jupyter-widgets/controls",
      "_view_module_version": "1.5.0",
      "_view_name": "HBoxView",
      "box_style": "",
      "children": [
       "IPY_MODEL_4ed48493bc7240c1b5939c7eeaefc483",
       "IPY_MODEL_ff675ee657e74328b8311b0bd0001790",
       "IPY_MODEL_3208741436df4f07a8652362a451cdc5"
      ],
      "layout": "IPY_MODEL_72f1364c8b4747c9a424f9e5070f233c"
     }
    },
    "4ed48493bc7240c1b5939c7eeaefc483": {
     "model_module": "@jupyter-widgets/controls",
     "model_name": "HTMLModel",
     "model_module_version": "1.5.0",
     "state": {
      "_dom_classes": [],
      "_model_module": "@jupyter-widgets/controls",
      "_model_module_version": "1.5.0",
      "_model_name": "HTMLModel",
      "_view_count": null,
      "_view_module": "@jupyter-widgets/controls",
      "_view_module_version": "1.5.0",
      "_view_name": "HTMLView",
      "description": "",
      "description_tooltip": null,
      "layout": "IPY_MODEL_5a93afd633054cf5b4ae6b1d9aa75ba1",
      "placeholder": "​",
      "style": "IPY_MODEL_bc4a9f166c674e15a05d2093c4378e7c",
      "value": "Map: 100%"
     }
    },
    "ff675ee657e74328b8311b0bd0001790": {
     "model_module": "@jupyter-widgets/controls",
     "model_name": "FloatProgressModel",
     "model_module_version": "1.5.0",
     "state": {
      "_dom_classes": [],
      "_model_module": "@jupyter-widgets/controls",
      "_model_module_version": "1.5.0",
      "_model_name": "FloatProgressModel",
      "_view_count": null,
      "_view_module": "@jupyter-widgets/controls",
      "_view_module_version": "1.5.0",
      "_view_name": "ProgressView",
      "bar_style": "success",
      "description": "",
      "description_tooltip": null,
      "layout": "IPY_MODEL_5ff480d6e3464f339ede102fc5bcb078",
      "max": 615,
      "min": 0,
      "orientation": "horizontal",
      "style": "IPY_MODEL_0a39ec610ffc4a95a03596e144a0f905",
      "value": 615
     }
    },
    "3208741436df4f07a8652362a451cdc5": {
     "model_module": "@jupyter-widgets/controls",
     "model_name": "HTMLModel",
     "model_module_version": "1.5.0",
     "state": {
      "_dom_classes": [],
      "_model_module": "@jupyter-widgets/controls",
      "_model_module_version": "1.5.0",
      "_model_name": "HTMLModel",
      "_view_count": null,
      "_view_module": "@jupyter-widgets/controls",
      "_view_module_version": "1.5.0",
      "_view_name": "HTMLView",
      "description": "",
      "description_tooltip": null,
      "layout": "IPY_MODEL_2fd0d94669c34ac2b2825fbf166202ec",
      "placeholder": "​",
      "style": "IPY_MODEL_83b84f2fa4b440bea43222657938b3c2",
      "value": " 615/615 [00:03&lt;00:00, 162.99 examples/s]"
     }
    },
    "72f1364c8b4747c9a424f9e5070f233c": {
     "model_module": "@jupyter-widgets/base",
     "model_name": "LayoutModel",
     "model_module_version": "1.2.0",
     "state": {
      "_model_module": "@jupyter-widgets/base",
      "_model_module_version": "1.2.0",
      "_model_name": "LayoutModel",
      "_view_count": null,
      "_view_module": "@jupyter-widgets/base",
      "_view_module_version": "1.2.0",
      "_view_name": "LayoutView",
      "align_content": null,
      "align_items": null,
      "align_self": null,
      "border": null,
      "bottom": null,
      "display": null,
      "flex": null,
      "flex_flow": null,
      "grid_area": null,
      "grid_auto_columns": null,
      "grid_auto_flow": null,
      "grid_auto_rows": null,
      "grid_column": null,
      "grid_gap": null,
      "grid_row": null,
      "grid_template_areas": null,
      "grid_template_columns": null,
      "grid_template_rows": null,
      "height": null,
      "justify_content": null,
      "justify_items": null,
      "left": null,
      "margin": null,
      "max_height": null,
      "max_width": null,
      "min_height": null,
      "min_width": null,
      "object_fit": null,
      "object_position": null,
      "order": null,
      "overflow": null,
      "overflow_x": null,
      "overflow_y": null,
      "padding": null,
      "right": null,
      "top": null,
      "visibility": null,
      "width": null
     }
    },
    "5a93afd633054cf5b4ae6b1d9aa75ba1": {
     "model_module": "@jupyter-widgets/base",
     "model_name": "LayoutModel",
     "model_module_version": "1.2.0",
     "state": {
      "_model_module": "@jupyter-widgets/base",
      "_model_module_version": "1.2.0",
      "_model_name": "LayoutModel",
      "_view_count": null,
      "_view_module": "@jupyter-widgets/base",
      "_view_module_version": "1.2.0",
      "_view_name": "LayoutView",
      "align_content": null,
      "align_items": null,
      "align_self": null,
      "border": null,
      "bottom": null,
      "display": null,
      "flex": null,
      "flex_flow": null,
      "grid_area": null,
      "grid_auto_columns": null,
      "grid_auto_flow": null,
      "grid_auto_rows": null,
      "grid_column": null,
      "grid_gap": null,
      "grid_row": null,
      "grid_template_areas": null,
      "grid_template_columns": null,
      "grid_template_rows": null,
      "height": null,
      "justify_content": null,
      "justify_items": null,
      "left": null,
      "margin": null,
      "max_height": null,
      "max_width": null,
      "min_height": null,
      "min_width": null,
      "object_fit": null,
      "object_position": null,
      "order": null,
      "overflow": null,
      "overflow_x": null,
      "overflow_y": null,
      "padding": null,
      "right": null,
      "top": null,
      "visibility": null,
      "width": null
     }
    },
    "bc4a9f166c674e15a05d2093c4378e7c": {
     "model_module": "@jupyter-widgets/controls",
     "model_name": "DescriptionStyleModel",
     "model_module_version": "1.5.0",
     "state": {
      "_model_module": "@jupyter-widgets/controls",
      "_model_module_version": "1.5.0",
      "_model_name": "DescriptionStyleModel",
      "_view_count": null,
      "_view_module": "@jupyter-widgets/base",
      "_view_module_version": "1.2.0",
      "_view_name": "StyleView",
      "description_width": ""
     }
    },
    "5ff480d6e3464f339ede102fc5bcb078": {
     "model_module": "@jupyter-widgets/base",
     "model_name": "LayoutModel",
     "model_module_version": "1.2.0",
     "state": {
      "_model_module": "@jupyter-widgets/base",
      "_model_module_version": "1.2.0",
      "_model_name": "LayoutModel",
      "_view_count": null,
      "_view_module": "@jupyter-widgets/base",
      "_view_module_version": "1.2.0",
      "_view_name": "LayoutView",
      "align_content": null,
      "align_items": null,
      "align_self": null,
      "border": null,
      "bottom": null,
      "display": null,
      "flex": null,
      "flex_flow": null,
      "grid_area": null,
      "grid_auto_columns": null,
      "grid_auto_flow": null,
      "grid_auto_rows": null,
      "grid_column": null,
      "grid_gap": null,
      "grid_row": null,
      "grid_template_areas": null,
      "grid_template_columns": null,
      "grid_template_rows": null,
      "height": null,
      "justify_content": null,
      "justify_items": null,
      "left": null,
      "margin": null,
      "max_height": null,
      "max_width": null,
      "min_height": null,
      "min_width": null,
      "object_fit": null,
      "object_position": null,
      "order": null,
      "overflow": null,
      "overflow_x": null,
      "overflow_y": null,
      "padding": null,
      "right": null,
      "top": null,
      "visibility": null,
      "width": null
     }
    },
    "0a39ec610ffc4a95a03596e144a0f905": {
     "model_module": "@jupyter-widgets/controls",
     "model_name": "ProgressStyleModel",
     "model_module_version": "1.5.0",
     "state": {
      "_model_module": "@jupyter-widgets/controls",
      "_model_module_version": "1.5.0",
      "_model_name": "ProgressStyleModel",
      "_view_count": null,
      "_view_module": "@jupyter-widgets/base",
      "_view_module_version": "1.2.0",
      "_view_name": "StyleView",
      "bar_color": null,
      "description_width": ""
     }
    },
    "2fd0d94669c34ac2b2825fbf166202ec": {
     "model_module": "@jupyter-widgets/base",
     "model_name": "LayoutModel",
     "model_module_version": "1.2.0",
     "state": {
      "_model_module": "@jupyter-widgets/base",
      "_model_module_version": "1.2.0",
      "_model_name": "LayoutModel",
      "_view_count": null,
      "_view_module": "@jupyter-widgets/base",
      "_view_module_version": "1.2.0",
      "_view_name": "LayoutView",
      "align_content": null,
      "align_items": null,
      "align_self": null,
      "border": null,
      "bottom": null,
      "display": null,
      "flex": null,
      "flex_flow": null,
      "grid_area": null,
      "grid_auto_columns": null,
      "grid_auto_flow": null,
      "grid_auto_rows": null,
      "grid_column": null,
      "grid_gap": null,
      "grid_row": null,
      "grid_template_areas": null,
      "grid_template_columns": null,
      "grid_template_rows": null,
      "height": null,
      "justify_content": null,
      "justify_items": null,
      "left": null,
      "margin": null,
      "max_height": null,
      "max_width": null,
      "min_height": null,
      "min_width": null,
      "object_fit": null,
      "object_position": null,
      "order": null,
      "overflow": null,
      "overflow_x": null,
      "overflow_y": null,
      "padding": null,
      "right": null,
      "top": null,
      "visibility": null,
      "width": null
     }
    },
    "83b84f2fa4b440bea43222657938b3c2": {
     "model_module": "@jupyter-widgets/controls",
     "model_name": "DescriptionStyleModel",
     "model_module_version": "1.5.0",
     "state": {
      "_model_module": "@jupyter-widgets/controls",
      "_model_module_version": "1.5.0",
      "_model_name": "DescriptionStyleModel",
      "_view_count": null,
      "_view_module": "@jupyter-widgets/base",
      "_view_module_version": "1.2.0",
      "_view_name": "StyleView",
      "description_width": ""
     }
    }
   }
  }
 },
 "nbformat": 4,
 "nbformat_minor": 0
}
